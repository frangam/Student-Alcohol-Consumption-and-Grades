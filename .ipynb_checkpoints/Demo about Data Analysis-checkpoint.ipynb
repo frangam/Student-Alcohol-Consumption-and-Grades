{
 "cells": [
  {
   "cell_type": "markdown",
   "metadata": {
    "deletable": true,
    "editable": true
   },
   "source": [
    "# Demostración de Análisis de datos\n",
    "Influencia del consumo de alcohol en las calificaciones de los estudiantes\n",
    "\n",
    "### Dataset\n",
    "El dataset que analizaremos está disponible en la siguiente [enlace].\n",
    "\n",
    "[enlace]:<http://archive.ics.uci.edu/ml/datasets/STUDENT+ALCOHOL+CONSUMPTION>\n",
    "\n",
    "### Objetivos\n",
    "- Objetivo 1: Realizar un análisis exploratorio de los datos y conclusiones que se puedan sacar de ellos. \n",
    "- Objetivo 2: Realizar una predicción sobre los valores objetivo (G1, G2 y G3).\n",
    "\n",
    "Desarrollado en Python 3 por Francisco Manuel García Moreno\n",
    "\n",
    "### Librerías\n",
    "Con los siguientes comandos se instalan todas las librerías necesarias:\n",
    "``` shell\n",
    "sudo apt-get install python3-tk\n",
    "sudo pip3 install ipython notebook numpy scipy matplotlib sklearn pandas\n",
    "```\n",
    "\n",
    "## Preprocesamiento de los datos\n",
    "Primero vamos a realizar un preprocesado de los datos, para ello usaremos la librería Pandas. Crearemos un DataFrame a partir de los archivos CSV disponibles y, además, los preprocesaremos para que todos los campos contengan valores numéricos."
   ]
  },
  {
   "cell_type": "code",
   "execution_count": 1,
   "metadata": {
    "collapsed": false,
    "deletable": true,
    "editable": true
   },
   "outputs": [],
   "source": [
    "import pandas as pd\n",
    "import numpy as np\n",
    "import matplotlib.pyplot as plt\n",
    "\n",
    "#Load data sets\n",
    "math_course_file = 'student/student-mat.csv'\n",
    "portuguese_course_file = 'student/student-por.csv'\n",
    "separator = ';'\n",
    "df1 = pd.read_csv(filepath_or_buffer=math_course_file, sep=separator)\n",
    "df2 = pd.read_csv(filepath_or_buffer=portuguese_course_file, sep=separator)\n",
    "\n",
    "df = pd.concat([df1, df2], axis=0) #vertical stack\n",
    "#df = pd.merge(df1, df2, how='inner', on=[\"school\",\"sex\",\"age\",\"address\",\"famsize\",\"Pstatus\",\"Medu\",\"Fedu\",\"Mjob\",\"Fjob\",\"reason\",\"nursery\",\"internet\"])"
   ]
  },
  {
   "cell_type": "code",
   "execution_count": 2,
   "metadata": {
    "collapsed": false,
    "deletable": true,
    "editable": true
   },
   "outputs": [
    {
     "name": "stdout",
     "output_type": "stream",
     "text": [
      "(395, 33)\n",
      "(649, 33)\n",
      "(1044, 33)\n",
      "Index(['school', 'sex', 'age', 'address', 'famsize', 'Pstatus', 'Medu', 'Fedu',\n",
      "       'Mjob', 'Fjob', 'reason', 'guardian', 'traveltime', 'studytime',\n",
      "       'failures', 'schoolsup', 'famsup', 'paid', 'activities', 'nursery',\n",
      "       'higher', 'internet', 'romantic', 'famrel', 'freetime', 'goout', 'Dalc',\n",
      "       'Walc', 'health', 'absences', 'G1', 'G2', 'G3'],\n",
      "      dtype='object')\n",
      "<class 'pandas.core.frame.DataFrame'>\n",
      "Int64Index: 1044 entries, 0 to 648\n",
      "Data columns (total 33 columns):\n",
      "school        1044 non-null object\n",
      "sex           1044 non-null object\n",
      "age           1044 non-null int64\n",
      "address       1044 non-null object\n",
      "famsize       1044 non-null object\n",
      "Pstatus       1044 non-null object\n",
      "Medu          1044 non-null int64\n",
      "Fedu          1044 non-null int64\n",
      "Mjob          1044 non-null object\n",
      "Fjob          1044 non-null object\n",
      "reason        1044 non-null object\n",
      "guardian      1044 non-null object\n",
      "traveltime    1044 non-null int64\n",
      "studytime     1044 non-null int64\n",
      "failures      1044 non-null int64\n",
      "schoolsup     1044 non-null object\n",
      "famsup        1044 non-null object\n",
      "paid          1044 non-null object\n",
      "activities    1044 non-null object\n",
      "nursery       1044 non-null object\n",
      "higher        1044 non-null object\n",
      "internet      1044 non-null object\n",
      "romantic      1044 non-null object\n",
      "famrel        1044 non-null int64\n",
      "freetime      1044 non-null int64\n",
      "goout         1044 non-null int64\n",
      "Dalc          1044 non-null int64\n",
      "Walc          1044 non-null int64\n",
      "health        1044 non-null int64\n",
      "absences      1044 non-null int64\n",
      "G1            1044 non-null int64\n",
      "G2            1044 non-null int64\n",
      "G3            1044 non-null int64\n",
      "dtypes: int64(16), object(17)\n",
      "memory usage: 277.3+ KB\n",
      "None\n"
     ]
    }
   ],
   "source": [
    "#explore the data sets\n",
    "print(df1.shape)\n",
    "print(df2.shape)\n",
    "print(df.shape)\n",
    "print(df.columns)\n",
    "\n",
    "#cantidad de NAN's\n",
    "print(df.info())"
   ]
  },
  {
   "cell_type": "markdown",
   "metadata": {
    "deletable": true,
    "editable": true
   },
   "source": [
    "Observamos que no hay ningún valor NAN en el data set. A continuación, preprocesaremos algunas columnas para que sus datos sean numéricos y, así, poder analizarlos mejor."
   ]
  },
  {
   "cell_type": "code",
   "execution_count": 3,
   "metadata": {
    "collapsed": true,
    "deletable": true,
    "editable": true
   },
   "outputs": [],
   "source": [
    "#get a number related with the job field\n",
    "def parse_job_to_binary(x):\n",
    "    return [i[0] for i in enumerate(['teacher', 'health', 'services', 'at_home', 'other']) if i[1]==x][0]\n",
    "def parse_job_to_string(x):\n",
    "    return [i[1] for i in enumerate(['teacher', 'health', 'services', 'at_home', 'other']) if i[0]==x][0]\n",
    "\n",
    "#get a number related with the reason field\n",
    "def parse_reason_to_binary(x):\n",
    "    return [i[0] for i in enumerate(['home', 'reputation', 'course', 'other']) if i[1]==x][0]\n",
    "\n",
    "#get a number related with the guardian field\n",
    "def parse_guardian_to_binary(x):\n",
    "    return [i[0] for i in enumerate(['mother', 'father', 'other']) if i[1]==x][0]"
   ]
  },
  {
   "cell_type": "code",
   "execution_count": 4,
   "metadata": {
    "collapsed": false,
    "deletable": true,
    "editable": true
   },
   "outputs": [],
   "source": [
    "#parse correctly all of the fields are not numerical\n",
    "df.school = df.school.apply(lambda x: 0 if x=='GP' else 1) #we only have two schools\n",
    "df.address = df.address.apply(lambda x: 0 if x=='U' else 1) #we only have two addresses\n",
    "df.famsize = df.famsize.apply(lambda x: 0 if x=='LE3' else 1) #we only have two family sizes\n",
    "df.Pstatus = df.Pstatus.apply(lambda x: 0 if x=='A' else 1) #we only have two parent's cohabitation statuses\n",
    "df.Mjob = df.Mjob.apply(lambda x: parse_job_to_binary(x))\n",
    "df.Fjob = df.Fjob.apply(lambda x: parse_job_to_binary(x))\n",
    "df.reason = df.reason.apply(lambda x: parse_reason_to_binary(x))\n",
    "df.guardian = df.guardian.apply(lambda x: parse_guardian_to_binary(x))\n",
    "df.sex = df.sex.apply(lambda x: 0 if x=='M' else 1)\n",
    "df.schoolsup = df.schoolsup.apply(lambda x: 0 if x=='no' else 1)\n",
    "df.famsup = df.famsup.apply(lambda x: 0 if x=='no' else 1)\n",
    "df.paid = df.paid.apply(lambda x: 0 if x=='no' else 1)\n",
    "df.activities = df.activities.apply(lambda x: 0 if x=='no' else 1)\n",
    "df.nursery = df.nursery.apply(lambda x: 0 if x=='no' else 1)\n",
    "df.higher = df.higher.apply(lambda x: 0 if x=='no' else 1)\n",
    "df.internet = df.internet.apply(lambda x: 0 if x=='no' else 1)\n",
    "df.romantic = df.romantic.apply(lambda x: 0 if x=='no' else 1)\n",
    "df['G1Pass'] = df.G1.apply(lambda x: 0 if x<10 else 1) #create a new column for classification G1 success\n",
    "df['G2Pass'] = df.G2.apply(lambda x: 0 if x<10 else 1) #create a new column for classification G2 success\n",
    "df['G3Pass'] = df.G3.apply(lambda x: 0 if x<10 else 1) #create a new column for classification final success\n",
    "df.absences = df.absences.apply(lambda x: 0 if x<10 else 1) #we put 1 when a student frequently make absence\n",
    "df.studytime = df.studytime.apply(lambda x: 0 if x<3 else 1) #we put 1 when a student frequently studies a lot\n",
    "df.freetime = df.freetime.apply(lambda x: 0 if x<3 else 1) #we put 1 when a student frequently has a lot of free time"
   ]
  },
  {
   "cell_type": "markdown",
   "metadata": {
    "deletable": true,
    "editable": true
   },
   "source": [
    "Ahora vamos a añadir una nueva columna, para clasificar a los alumnos como consumidores de alcohol o no. El criterio de clasificación se basa en la fórmula presentada en este [paper]:\n",
    "\n",
    "$$Alc=\\frac{Walc\\times2 + Dalc\\times5}{7}$$\n",
    "\n",
    "Además, clasificaremos como bebedor a un alumno si $Alc\\geqslant3$ y como no bebedor en otro caso.\n",
    "\n",
    "[paper]:https://www.researchgate.net/publication/296695247_USING_DATA_MINING_TO_PREDICT_SECONDARY_SCHOOL_STUDENT_ALCOHOL_CONSUMPTION\n"
   ]
  },
  {
   "cell_type": "code",
   "execution_count": 5,
   "metadata": {
    "collapsed": true,
    "deletable": true,
    "editable": true
   },
   "outputs": [],
   "source": [
    "#classification column \n",
    "df['Alc'] = (df.Walc*2 + df.Dalc*5)/7"
   ]
  },
  {
   "cell_type": "code",
   "execution_count": 6,
   "metadata": {
    "collapsed": false,
    "deletable": true,
    "editable": true
   },
   "outputs": [],
   "source": [
    "#a student is a drinker if its alc value is lower than 3\n",
    "df.Alc = df.Alc.apply(lambda x: 0 if x < 3 else 1)"
   ]
  },
  {
   "cell_type": "code",
   "execution_count": 7,
   "metadata": {
    "collapsed": false,
    "deletable": true,
    "editable": true,
    "scrolled": true
   },
   "outputs": [
    {
     "name": "stdout",
     "output_type": "stream",
     "text": [
      "count    1044.000000\n",
      "mean        0.113027\n",
      "std         0.316777\n",
      "min         0.000000\n",
      "25%         0.000000\n",
      "50%         0.000000\n",
      "75%         0.000000\n",
      "max         1.000000\n",
      "Name: Alc, dtype: float64\n"
     ]
    }
   ],
   "source": [
    "print(df.Alc.describe())"
   ]
  },
  {
   "cell_type": "markdown",
   "metadata": {
    "deletable": true,
    "editable": true
   },
   "source": [
    "## Objetivo 1: Análisis de los datos y presentación de resultados\n",
    "\n",
    "Ahora que ya tenemos nuestro data set preparado con datos numéricos, vamos a analizarlos y después presentaremos los resultados."
   ]
  },
  {
   "cell_type": "code",
   "execution_count": 8,
   "metadata": {
    "collapsed": false,
    "deletable": true,
    "editable": true
   },
   "outputs": [
    {
     "name": "stdout",
     "output_type": "stream",
     "text": [
      "sex\n",
      "0    0.200883\n",
      "1    0.045685\n",
      "Name: Alc, dtype: float64\n",
      "age\n",
      "15    0.067010\n",
      "16    0.085409\n",
      "17    0.122744\n",
      "18    0.130631\n",
      "19    0.232143\n",
      "20    0.111111\n",
      "21    0.666667\n",
      "22    1.000000\n",
      "Name: Alc, dtype: float64\n",
      "G3Pass\n",
      "0    0.143478\n",
      "1    0.104423\n",
      "Name: Alc, dtype: float64\n",
      "sex  G3Pass\n",
      "0    0         0.257143\n",
      "     1         0.183908\n",
      "1    0         0.048000\n",
      "     1         0.045064\n",
      "Name: Alc, dtype: float64\n",
      "age  G3Pass\n",
      "15   0         0.060606\n",
      "     1         0.068323\n",
      "16   0         0.122449\n",
      "     1         0.077586\n",
      "17   0         0.150000\n",
      "     1         0.115207\n",
      "18   0         0.114754\n",
      "     1         0.136646\n",
      "19   0         0.217391\n",
      "     1         0.242424\n",
      "20   0         1.000000\n",
      "     1         0.000000\n",
      "21   0         1.000000\n",
      "     1         0.500000\n",
      "22   0         1.000000\n",
      "Name: Alc, dtype: float64\n",
      "studytime\n",
      "0    0.130488\n",
      "1    0.049107\n",
      "Name: Alc, dtype: float64\n",
      "freetime\n",
      "0    0.089362\n",
      "1    0.119901\n",
      "Name: Alc, dtype: float64\n",
      "goout\n",
      "1    0.042254\n",
      "2    0.060484\n",
      "3    0.074627\n",
      "4    0.149780\n",
      "5    0.251534\n",
      "Name: Alc, dtype: float64\n",
      "absences\n",
      "0    0.095398\n",
      "1    0.215686\n",
      "Name: Alc, dtype: float64\n"
     ]
    }
   ],
   "source": [
    "#percentage of drinkers by sex\n",
    "print(df.groupby('sex').mean().loc[:,'Alc'])\n",
    "\n",
    "#percentage of drinkers by age\n",
    "print(df.groupby('age').mean().loc[:,'Alc'])\n",
    "\n",
    "#percentage of drinkers by FinalSuccess (G3) mark\n",
    "print(df.groupby('G3Pass').mean().loc[:,'Alc'])\n",
    "\n",
    "#percentage of drinkers by sex and G3Pass \n",
    "print(df.groupby(['sex', 'G3Pass']).mean().loc[:,'Alc'])\n",
    "\n",
    "#percentage of drinkers by age and G3Pass \n",
    "print(df.groupby(['age', 'G3Pass']).mean().loc[:,'Alc'])\n",
    "\n",
    "#percentage of drinkers by study time field\n",
    "print(df.groupby('studytime').mean().loc[:,'Alc'])\n",
    "\n",
    "#percentage of drinkers by free time field\n",
    "print(df.groupby('freetime').mean().loc[:,'Alc'])\n",
    "\n",
    "#percentage of drinkers by goout field\n",
    "print(df.groupby('goout').mean().loc[:,'Alc'])\n",
    "\n",
    "#percentage of drinkers by absences\n",
    "print(df.groupby('absences').mean().loc[:,'Alc'])"
   ]
  },
  {
   "cell_type": "markdown",
   "metadata": {
    "deletable": true,
    "editable": true
   },
   "source": [
    "Después de analizar los datos, podemos observar que hay algunos factores que son influyentes en el consumo de alcohol de los estudiantes:\n",
    "- Género (Hombres superan a las mujeres con diferencia)\n",
    "- Edad (Por ejemplo, todos los alumnos de 22 años son bebedores)\n",
    "- Las ausencias\n",
    "- El tiempo de estudio\n",
    "- El tiempo libre\n",
    "- Las salidas\n",
    "- El resultado de las notas (aprobado / suspenso)"
   ]
  },
  {
   "cell_type": "markdown",
   "metadata": {
    "deletable": true,
    "editable": true
   },
   "source": [
    "Ahora vamos a ver cómo influye el consumo de alcohol al resultado de las calificaciones de los alumnos (G1, G2 y G3):"
   ]
  },
  {
   "cell_type": "code",
   "execution_count": 28,
   "metadata": {
    "collapsed": false,
    "deletable": true,
    "editable": true
   },
   "outputs": [
    {
     "name": "stdout",
     "output_type": "stream",
     "text": [
      "Alc\n",
      "0    0.725702\n",
      "1    0.618644\n",
      "Name: G1Pass, dtype: float64\n",
      "sex  Alc\n",
      "0    0      0.723757\n",
      "     1      0.604396\n",
      "1    0      0.726950\n",
      "     1      0.666667\n",
      "Name: G1Pass, dtype: float64\n",
      "sex  Alc\n",
      "0    0      0.729282\n",
      "     1      0.582418\n",
      "1    0      0.741135\n",
      "     1      0.666667\n",
      "Name: G2Pass, dtype: float64\n",
      "sex  Alc\n",
      "0    0      0.784530\n",
      "     1      0.703297\n",
      "1    0      0.789007\n",
      "     1      0.777778\n",
      "Name: G3Pass, dtype: float64\n"
     ]
    }
   ],
   "source": [
    "#porcentaje de aprobados según si son consumidores del alcohol\n",
    "print(df.groupby(['Alc']).mean().loc[:,'G1Pass'])\n",
    "\n",
    "#porcentajes de aprobados segun sexo y si consumen alcohol\n",
    "print(df.groupby(['sex', 'Alc']).mean().loc[:,'G1Pass'])\n",
    "print(df.groupby(['sex', 'Alc']).mean().loc[:,'G2Pass'])\n",
    "print(df.groupby(['sex', 'Alc']).mean().loc[:,'G3Pass'])"
   ]
  },
  {
   "cell_type": "markdown",
   "metadata": {
    "deletable": true,
    "editable": true
   },
   "source": [
    "Podemos observar que el consumo de alcohol, en general, reduce la tasa de aprobados, demás existe un porcentaje mayor de hombres que no consiguen aprobar que son bebedores."
   ]
  },
  {
   "cell_type": "markdown",
   "metadata": {
    "deletable": true,
    "editable": true
   },
   "source": [
    "### Presentación de resultados\n",
    "Después de analizar los datos vamos a presentarlos haciendo uso de la librería [matplotlib](http://matplotlib.org/)."
   ]
  },
  {
   "cell_type": "code",
   "execution_count": 31,
   "metadata": {
    "collapsed": false,
    "deletable": true,
    "editable": true
   },
   "outputs": [],
   "source": [
    "import matplotlib.pyplot as plt\n",
    "from matplotlib.ticker import FuncFormatter\n",
    "\n",
    "#revert some fields to original\n",
    "df.sex = df.sex.apply(lambda x: 'Male' if x==0 else 'Female')\n",
    "df.Mjob = df.Mjob.apply(lambda x: parse_job_to_string(x))\n",
    "df.Fjob = df.Fjob.apply(lambda x: parse_job_to_string(x))"
   ]
  },
  {
   "cell_type": "markdown",
   "metadata": {
    "deletable": true,
    "editable": true
   },
   "source": [
    "##### Distribución de consumo de alcohol por género y edad"
   ]
  },
  {
   "cell_type": "code",
   "execution_count": 33,
   "metadata": {
    "collapsed": false,
    "deletable": true,
    "editable": true
   },
   "outputs": [
    {
     "data": {
      "image/png": "[encoded data removed]",
      "text/plain": [
       "<matplotlib.figure.Figure at 0x109e0d3c8>"
      ]
     },
     "metadata": {},
     "output_type": "display_data"
    }
   ],
   "source": [
    "fig, ax = plt.subplots(1, 3, figsize=(20, 5))\n",
    "fig.suptitle('Students distribution by genre and age', fontweight='bold', fontsize=16)\n",
    "\n",
    "#create a pie chart for genre distribution\n",
    "sexCountList=df.groupby('sex').count().iloc[:,1]\n",
    "m=max(sexCountList)\n",
    "explode = [0.1 if x==m else 0 for x in sexCountList]\n",
    "ax[0].axis('equal')  # ensures that pie is drawn as a circle.\n",
    "\n",
    "sexCountList.plot.pie(ax=ax[0], explode=explode, colors=['red','green'], autopct='%1.1f%%',shadow=True, startangle=0)\n",
    "ax[0].set_ylabel('Genre distribution')\n",
    "\n",
    "# create an histogram for distribution of genres by age\n",
    "df.loc[df.sex=='Male','age'].hist(ax=ax[1], bins=20, color='green', alpha=0.75, label='Male')\n",
    "df.loc[df.sex=='Female','age'].hist(ax=ax[1], bins=20, color='red', alpha=0.75, label='Female')\n",
    "ax[1].grid(False)\n",
    "ax[1].legend()\n",
    "ax[1].set_title('Genre per age distribution')\n",
    "ax[1].set_xlabel('Ages')\n",
    "ax[1].set_ylabel('Freq')\n",
    "\n",
    "#bar chart for alcohol consumption distribution by genre\n",
    "formatter = FuncFormatter(lambda y, pos: \"%d%%\" % (y*100)) #formating y values with percentage operator\n",
    "ax[2].yaxis.set_major_formatter(formatter)\n",
    "df.groupby('sex').mean().loc[:,'Alc'].plot.bar(ax=ax[2],color=['red','green'],alpha=0.75)\n",
    "ax[2].set_title('Alcohol consumption distribution by genre')\n",
    "ax[2].set_xlabel('Genre')\n",
    "ax[2].set_ylabel('Percentage')\n",
    "for rect in ax[2].patches:\n",
    "    ax[2].annotate(\"%0.2f%%\" % (rect.get_height()*100), (rect.get_x() + rect.get_width()/2., rect.get_height() * 1.01), ha='center')\n",
    "\n",
    "\n",
    "plt.show()"
   ]
  },
  {
   "cell_type": "markdown",
   "metadata": {
    "deletable": true,
    "editable": true
   },
   "source": [
    "##### Distribuciones: consumo de alcohol según género y edad"
   ]
  },
  {
   "cell_type": "code",
   "execution_count": 34,
   "metadata": {
    "collapsed": false,
    "deletable": true,
    "editable": true
   },
   "outputs": [
    {
     "data": {
      "image/png": "[encoded data removed]",
      "text/plain": [
       "<matplotlib.figure.Figure at 0x1096f90f0>"
      ]
     },
     "metadata": {},
     "output_type": "display_data"
    }
   ],
   "source": [
    "fig, ax = plt.subplots(1, 4, figsize=(22, 5))\n",
    "fig.suptitle('Students alcohol consumption distribution', fontweight='bold', fontsize=16)\n",
    "dfs = []\n",
    "w=0.7\n",
    "\n",
    "#drinkers by sex\n",
    "dfs.append(df.groupby('sex').mean().loc[:,'Alc'])\n",
    "ax[0].set_xlabel('Genre')\n",
    "\n",
    "\n",
    "#drinkers by age\n",
    "dfs.append(df.groupby(['sex','age']).mean().reset_index().pivot(index='age',columns='sex',values='Alc'))\n",
    "ax[1].set_xlabel('Age')\n",
    "\n",
    "#drinkers by study time\n",
    "dfs.append(df.groupby(['sex','absences']).mean().reset_index().pivot(index='absences',columns='sex',values='Alc'))\n",
    "ax[2].set_xlabel('Absences')\n",
    "\n",
    "#drinkers by free time\n",
    "dfs.append(df.groupby(['sex','studytime']).mean().loc[:,'Alc'].reset_index().pivot(index='studytime',columns='sex',values='Alc'))\n",
    "ax[3].set_xlabel('Free Time')\n",
    "\n",
    "formatter = FuncFormatter(lambda y, pos: \"%d%%\" % (y*100))\n",
    "\n",
    "for i,_ in enumerate(ax):\n",
    "    ax[i].yaxis.set_major_formatter(formatter)\n",
    "    dfs[i].plot.bar(ax=ax[i], width=w,color=['green','red'],alpha=0.75)\n",
    "    if i==0:\n",
    "        for rect in ax[i].patches:\n",
    "            ax[i].annotate(\"%0.2f%%\" % (rect.get_height()*100), (rect.get_x() + rect.get_width()/2., rect.get_height() * 1.05), ha='center')\n",
    "    ax[i].grid(False)\n",
    "    ax[i].set_ylim([0,1]) #clamp between [0,1]\n",
    "    ax[i].set_ylabel('Alcohol consumption')\n",
    "    \n",
    "plt.show()"
   ]
  },
  {
   "cell_type": "markdown",
   "metadata": {
    "deletable": true,
    "editable": true
   },
   "source": [
    "En la gráfica anterior podemos ver lo que habíamos analizado al inicio:\n",
    "- Los chicos (20,09%) consumen mucho más alcohol que las chicas (4,57%)\n",
    "- El consumo de alcohol se dispara en los chicos mayores de 16 años\n",
    "- Las ausencias a clase influyen en el aumento del consumo de alcohol\n",
    "- El consumo de alcohol también se ve influenciado si no se dedica tiempo a estudiar"
   ]
  },
  {
   "cell_type": "code",
   "execution_count": 35,
   "metadata": {
    "collapsed": false,
    "deletable": true,
    "editable": true
   },
   "outputs": [
    {
     "data": {
      "image/png": "[encoded data removed]",
      "text/plain": [
       "<matplotlib.figure.Figure at 0x109abfac8>"
      ]
     },
     "metadata": {},
     "output_type": "display_data"
    }
   ],
   "source": [
    "fig, ax = plt.subplots(1, 2, figsize=(22, 5))\n",
    "fig.suptitle('Students alcohol consumption distribution by mother job', fontweight='bold', fontsize=16)\n",
    "\n",
    "#create a pie chart for \n",
    "li=df.groupby('Mjob').count().iloc[:,1]\n",
    "m=max(sexCountList)\n",
    "explode = [0.1 if x==m else 0 for x in li]\n",
    "ax[0].axis('equal')  # ensures that pie is drawn as a circle.\n",
    "\n",
    "li.plot.pie(ax=ax[0], explode=explode, colors=['red','green', 'blue', 'yellow', 'brown'], autopct='%1.1f%%',shadow=True, startangle=0)\n",
    "ax[0].set_ylabel('Mother job distribution')\n",
    "\n",
    "#bar chart for alcohol consumption distribution by genre\n",
    "formatter = FuncFormatter(lambda y, pos: \"%d%%\" % (y*100)) #formating y values with percentage operator\n",
    "ax[1].yaxis.set_major_formatter(formatter)\n",
    "df.groupby('Mjob').mean().loc[:,'Alc'].plot.bar(ax=ax[1],color='pink',alpha=0.75)\n",
    "ax[1].set_title('Alcohol consumption distribution by mother job')\n",
    "ax[1].set_xlabel('Mother job')\n",
    "ax[1].set_ylabel('Percentage')\n",
    "for rect in ax[1].patches:\n",
    "    ax[1].annotate(\"%0.2f%%\" % (rect.get_height()*100), (rect.get_x() + rect.get_width()/2., rect.get_height() * 1.01), ha='center')\n",
    "\n",
    "plt.show()"
   ]
  },
  {
   "cell_type": "markdown",
   "metadata": {
    "deletable": true,
    "editable": true
   },
   "source": [
    "##### Distribuciones: consumo de alcohol y tasa de aprobados\n",
    "En esta gráfica observamos cómo la influencia del consumo de alcohol sobre los suspensos se ve agravada."
   ]
  },
  {
   "cell_type": "code",
   "execution_count": 36,
   "metadata": {
    "collapsed": false,
    "deletable": true,
    "editable": true
   },
   "outputs": [
    {
     "data": {
      "image/png": "[encoded data removed]",
      "text/plain": [
       "<matplotlib.figure.Figure at 0x109786a90>"
      ]
     },
     "metadata": {},
     "output_type": "display_data"
    }
   ],
   "source": [
    "fig, ax = plt.subplots()\n",
    "#bar chart for showing alcohol consumption by genre and final mark success (G3)\n",
    "formatter = FuncFormatter(lambda y, pos: \"%d%%\" % (y*100)) #formating y values with percentage operator\n",
    "ax.yaxis.set_major_formatter(formatter)\n",
    "df.groupby(['sex','G3Pass']).mean().reset_index().pivot(index='G3Pass',columns='sex',values='Alc').plot.bar(ax=ax, color=['red','green'],alpha=0.75)\n",
    "ax.set_title('Alcohol consumption by genre and G3 pass')\n",
    "ax.set_xlabel('Final G3 Pass')\n",
    "ax.set_ylabel('Alcohol consumption')\n",
    "ax.legend()\n",
    "for rect in ax.patches:\n",
    "    ax.annotate(\"%0.2f%%\" % (rect.get_height()*100), (rect.get_x() + rect.get_width()/2., rect.get_height() * 1.005), ha='center')\n",
    "\n",
    "plt.show()"
   ]
  },
  {
   "cell_type": "markdown",
   "metadata": {
    "deletable": true,
    "editable": true
   },
   "source": [
    "## Objetivo 2: Realizar una predicción sobre los valores objetivo (G1, G2 y G3)\n",
    "Recordemos que hemos incluido 3 nuevas columnas para indicar si un alumno ha aprobado el G1, G2 y G3. Dichos campos son: G1Pass, G2Pass y G3Pass."
   ]
  },
  {
   "cell_type": "code",
   "execution_count": 37,
   "metadata": {
    "collapsed": false,
    "deletable": true,
    "editable": true
   },
   "outputs": [],
   "source": [
    "#revert some fields again\n",
    "df.sex = df.sex.apply(lambda x: 0 if x=='Male' else 1)\n",
    "df.Mjob = df.Mjob.apply(lambda x: parse_job_to_binary(x))\n",
    "df.Fjob = df.Fjob.apply(lambda x: parse_job_to_binary(x))"
   ]
  },
  {
   "cell_type": "code",
   "execution_count": 39,
   "metadata": {
    "collapsed": false,
    "deletable": true,
    "editable": true
   },
   "outputs": [
    {
     "name": "stdout",
     "output_type": "stream",
     "text": [
      "Results for G1 (algorithm = knn):\n",
      "             precision    recall  f1-score   support\n",
      "\n",
      "    No-pass       0.81      0.37      0.51       120\n",
      "       Pass       0.79      0.97      0.87       298\n",
      "\n",
      "avg / total       0.80      0.79      0.77       418\n",
      "\n",
      "Acuracy: 79.43%\n",
      "\n",
      "Confusion matrix G1:\n",
      "[[ 44  76]\n",
      " [ 10 288]]\n",
      "\n",
      "\n",
      "Results for G2 (algorithm = knn):\n",
      "             precision    recall  f1-score   support\n",
      "\n",
      "    No-pass       0.78      0.32      0.46       117\n",
      "       Pass       0.79      0.96      0.87       301\n",
      "\n",
      "avg / total       0.78      0.78      0.75       418\n",
      "\n",
      "Acuracy: 78.47%\n",
      "\n",
      "Confusion matrix G2:\n",
      "[[ 38  79]\n",
      " [ 11 290]]\n",
      "\n",
      "\n",
      "Results for G3 (algorithm = knn):\n",
      "             precision    recall  f1-score   support\n",
      "\n",
      "    No-pass       0.84      0.23      0.36        92\n",
      "       Pass       0.82      0.99      0.90       326\n",
      "\n",
      "avg / total       0.82      0.82      0.78       418\n",
      "\n",
      "Acuracy: 82.06%\n",
      "\n",
      "Confusion matrix G3:\n",
      "[[ 21  71]\n",
      " [  4 322]]\n",
      "\n",
      "\n",
      "Results for G1 (algorithm = dt):\n",
      "             precision    recall  f1-score   support\n",
      "\n",
      "    No-pass       0.87      1.00      0.93       120\n",
      "       Pass       1.00      0.94      0.97       298\n",
      "\n",
      "avg / total       0.96      0.96      0.96       418\n",
      "\n",
      "Acuracy: 95.69%\n",
      "\n",
      "Confusion matrix G1:\n",
      "[[120   0]\n",
      " [ 18 280]]\n",
      "\n",
      "\n",
      "Results for G2 (algorithm = dt):\n",
      "             precision    recall  f1-score   support\n",
      "\n",
      "    No-pass       0.87      1.00      0.93       117\n",
      "       Pass       1.00      0.94      0.97       301\n",
      "\n",
      "avg / total       0.96      0.96      0.96       418\n",
      "\n",
      "Acuracy: 95.93%\n",
      "\n",
      "Confusion matrix G2:\n",
      "[[117   0]\n",
      " [ 17 284]]\n",
      "\n",
      "\n",
      "Results for G3 (algorithm = dt):\n",
      "             precision    recall  f1-score   support\n",
      "\n",
      "    No-pass       0.85      1.00      0.92        92\n",
      "       Pass       1.00      0.95      0.97       326\n",
      "\n",
      "avg / total       0.97      0.96      0.96       418\n",
      "\n",
      "Acuracy: 96.17%\n",
      "\n",
      "Confusion matrix G3:\n",
      "[[ 92   0]\n",
      " [ 16 310]]\n",
      "\n",
      "\n",
      "Results for G1 (algorithm = rf):\n",
      "             precision    recall  f1-score   support\n",
      "\n",
      "    No-pass       0.93      0.95      0.94       120\n",
      "       Pass       0.98      0.97      0.97       298\n",
      "\n",
      "avg / total       0.96      0.96      0.96       418\n",
      "\n",
      "Acuracy: 96.41%\n",
      "\n",
      "Confusion matrix G1:\n",
      "[[114   6]\n",
      " [  9 289]]\n",
      "\n",
      "\n",
      "Results for G2 (algorithm = rf):\n",
      "             precision    recall  f1-score   support\n",
      "\n",
      "    No-pass       0.92      0.92      0.92       117\n",
      "       Pass       0.97      0.97      0.97       301\n",
      "\n",
      "avg / total       0.95      0.95      0.95       418\n",
      "\n",
      "Acuracy: 95.45%\n",
      "\n",
      "Confusion matrix G2:\n",
      "[[108   9]\n",
      " [ 10 291]]\n",
      "\n",
      "\n",
      "Results for G3 (algorithm = rf):\n",
      "             precision    recall  f1-score   support\n",
      "\n",
      "    No-pass       0.93      0.91      0.92        92\n",
      "       Pass       0.98      0.98      0.98       326\n",
      "\n",
      "avg / total       0.97      0.97      0.97       418\n",
      "\n",
      "Acuracy: 96.65%\n",
      "\n",
      "Confusion matrix G3:\n",
      "[[ 84   8]\n",
      " [  6 320]]\n",
      "\n",
      "\n"
     ]
    }
   ],
   "source": [
    "from sklearn.model_selection import StratifiedShuffleSplit\n",
    "from sklearn.neighbors import KNeighborsClassifier\n",
    "from sklearn.tree import DecisionTreeClassifier\n",
    "from sklearn.ensemble import RandomForestClassifier\n",
    "from sklearn.metrics import classification_report\n",
    "from sklearn.metrics import confusion_matrix\n",
    "from sklearn.metrics import accuracy_score\n",
    "import random\n",
    "\n",
    "#divide data set in 60% for training and 40% for testing\n",
    "def predict(train, labels, grades, algorithm = 'knn'):\n",
    "    #divide data set in 60% for training and 40% for testing\n",
    "    stratified_data = StratifiedShuffleSplit(n_splits=3, test_size=0.4, random_state=random.randint(0, 999))\n",
    "    for i, j in stratified_data.split(train, labels):\n",
    "        X_train = train.iloc[i]\n",
    "        y_train = labels.iloc[i]\n",
    "        X_test = train.iloc[j]\n",
    "        y_test = labels.iloc[j]\n",
    "    \n",
    "    if algorithm == 'knn':\n",
    "        model = KNeighborsClassifier()\n",
    "    elif algorithm == 'dt':\n",
    "        model = DecisionTreeClassifier()\n",
    "    elif algorithm == \"rf\":\n",
    "        model = RandomForestClassifier() \n",
    "        \n",
    "    \n",
    "    model.fit(train, labels)\n",
    "    pred = model.predict(X_test)\n",
    "    accuracy = accuracy_score(y_test, pred)\n",
    "    print(\"Results for \" + grades + \" (algorithm = \" + algorithm + \"):\")\n",
    "    print(classification_report(y_test, pred, target_names=[\"No-pass\", \"Pass\"]))\n",
    "    print(\"Acuracy: %0.2f%%\" % (accuracy*100) + \"\\n\")\n",
    "    print(\"Confusion matrix \" + grades + \":\")\n",
    "    print(confusion_matrix(y_test, pred))\n",
    "    print(\"\\n\") \n",
    "\n",
    "\n",
    "#delete some columns\n",
    "train = df.drop(['Walc','Dalc','G1','G2','G3','G1Pass','G2Pass','G3Pass'], axis = 1)\n",
    "\n",
    "\"\"\"print the final results\"\"\"\n",
    "\n",
    "#with kNN\n",
    "predict(train, df['G1Pass'], \"G1\", algorithm='knn')\n",
    "predict(train, df['G2Pass'], \"G2\", algorithm='knn')\n",
    "predict(train, df['G3Pass'], \"G3\", algorithm='knn')\n",
    "\n",
    "#with Decision Tree\n",
    "predict(train, df['G1Pass'], \"G1\", algorithm='dt')\n",
    "predict(train, df['G2Pass'], \"G2\", algorithm='dt')\n",
    "predict(train, df['G3Pass'], \"G3\", algorithm='dt')\n",
    "\n",
    "#with Random Forest\n",
    "predict(train, df['G1Pass'], \"G1\", algorithm='rf')\n",
    "predict(train, df['G2Pass'], \"G2\", algorithm='rf')\n",
    "predict(train, df['G3Pass'], \"G3\", algorithm='rf')"
   ]
  },
  {
   "cell_type": "markdown",
   "metadata": {
    "deletable": true,
    "editable": true
   },
   "source": [
    "## TODO: Multivariate"
   ]
  },
  {
   "cell_type": "markdown",
   "metadata": {
    "deletable": true,
    "editable": true
   },
   "source": [
    "## Conclusiones\n",
    "Hemos habilitado la predicción con diferentes algoritmos y estos son los resultados obtenidos:\n",
    "- Decision Tree: G1 accuracy: 96.89%, G2 accuracy: 96.65%, G3 accuracy: 97.37%.\n",
    "- kNN: G1 accuracy: 80.86%, G2 accuracy: 82.06%, G3 accuracy: 81.58%.\n",
    "- Random Forest: G1 accuracy: 95.45%, G2 accuracy: 96.89%, G3 accuracy: 95.22%.\n",
    "\n",
    "Los mejores resultados se consiguen con Decision Tree.\n",
    "\n",
    "Podemos fijarnos también en la matriz de confusión donde observamos que la sensibilidad y la sensibilidad están muy parejos. \n",
    "\n",
    "Además, en general, el número de falsos positivos es muy reducido (lo cual nos interesa, preferiremos predecir con mayor precisión los «aprobados» en comparación con los «suspensos»).\n",
    "\n",
    "### Trabajo futuro\n",
    "Un posible trabajo futuro sería tratar de ajustar (tuning) los clasificadores para mejorar la accuracy."
   ]
  }
 ],
 "metadata": {
  "kernelspec": {
   "display_name": "Python 3",
   "language": "python",
   "name": "python3"
  },
  "language_info": {
   "codemirror_mode": {
    "name": "ipython",
    "version": 3
   },
   "file_extension": ".py",
   "mimetype": "text/x-python",
   "name": "python",
   "nbconvert_exporter": "python",
   "pygments_lexer": "ipython3",
   "version": "3.5.2"
  }
 },
 "nbformat": 4,
 "nbformat_minor": 2
}
